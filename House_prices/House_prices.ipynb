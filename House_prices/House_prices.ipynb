{
 "cells": [
  {
   "cell_type": "code",
   "execution_count": 2,
   "metadata": {},
   "outputs": [],
   "source": [
    "import numpy as np\n",
    "import pandas as pd\n",
    "import sklearn\n",
    "from sklearn.pipeline import make_pipeline, FeatureUnion\n",
    "from sklearn.compose import make_column_selector, make_column_transformer\n",
    "from sklearn.preprocessing import StandardScaler, OneHotEncoder, Normalizer, FunctionTransformer\n",
    "from sklearn.model_selection import train_test_split, GridSearchCV\n",
    "from sklearn import svm\n",
    "from sklearn.linear_model import LassoLarsCV, LassoLarsCV, ElasticNet, RidgeCV, Ridge, SGDRegressor, LinearRegression\n",
    "from sklearn.metrics import mean_squared_error, mean_absolute_error, r2_score, mean_squared_log_error\n",
    "from sklearn.ensemble import RandomForestRegressor, GradientBoostingRegressor, VotingRegressor, StackingRegressor\n",
    "from sklearn.impute import SimpleImputer"
   ]
  },
  {
   "cell_type": "code",
   "execution_count": 3,
   "metadata": {},
   "outputs": [
    {
     "name": "stdout",
     "output_type": "stream",
     "text": [
      "(1460, 70)\n"
     ]
    },
    {
     "data": {
      "text/plain": "   MSSubClass MSZoning  LotArea LotShape LandContour LotConfig LandSlope  \\\n0          60       RL     8450      Reg         Lvl    Inside       Gtl   \n1          20       RL     9600      Reg         Lvl       FR2       Gtl   \n2          60       RL    11250      IR1         Lvl    Inside       Gtl   \n3          70       RL     9550      IR1         Lvl    Corner       Gtl   \n4          60       RL    14260      IR1         Lvl       FR2       Gtl   \n\n  Neighborhood Condition1 BldgType  ... PavedDrive  WoodDeckSF  OpenPorchSF  \\\n0      CollgCr       Norm     1Fam  ...          Y           0           61   \n1      Veenker      Feedr     1Fam  ...          Y         298            0   \n2      CollgCr       Norm     1Fam  ...          Y           0           42   \n3      Crawfor       Norm     1Fam  ...          Y           0           35   \n4      NoRidge       Norm     1Fam  ...          Y         192           84   \n\n   EnclosedPorch  ScreenPorch MoSold YrSold SaleType SaleCondition SalePrice  \n0              0            0      2   2008       WD        Normal    208500  \n1              0            0      5   2007       WD        Normal    181500  \n2              0            0      9   2008       WD        Normal    223500  \n3            272            0      2   2006       WD       Abnorml    140000  \n4              0            0     12   2008       WD        Normal    250000  \n\n[5 rows x 51 columns]",
      "text/html": "<div>\n<style scoped>\n    .dataframe tbody tr th:only-of-type {\n        vertical-align: middle;\n    }\n\n    .dataframe tbody tr th {\n        vertical-align: top;\n    }\n\n    .dataframe thead th {\n        text-align: right;\n    }\n</style>\n<table border=\"1\" class=\"dataframe\">\n  <thead>\n    <tr style=\"text-align: right;\">\n      <th></th>\n      <th>MSSubClass</th>\n      <th>MSZoning</th>\n      <th>LotArea</th>\n      <th>LotShape</th>\n      <th>LandContour</th>\n      <th>LotConfig</th>\n      <th>LandSlope</th>\n      <th>Neighborhood</th>\n      <th>Condition1</th>\n      <th>BldgType</th>\n      <th>...</th>\n      <th>PavedDrive</th>\n      <th>WoodDeckSF</th>\n      <th>OpenPorchSF</th>\n      <th>EnclosedPorch</th>\n      <th>ScreenPorch</th>\n      <th>MoSold</th>\n      <th>YrSold</th>\n      <th>SaleType</th>\n      <th>SaleCondition</th>\n      <th>SalePrice</th>\n    </tr>\n  </thead>\n  <tbody>\n    <tr>\n      <th>0</th>\n      <td>60</td>\n      <td>RL</td>\n      <td>8450</td>\n      <td>Reg</td>\n      <td>Lvl</td>\n      <td>Inside</td>\n      <td>Gtl</td>\n      <td>CollgCr</td>\n      <td>Norm</td>\n      <td>1Fam</td>\n      <td>...</td>\n      <td>Y</td>\n      <td>0</td>\n      <td>61</td>\n      <td>0</td>\n      <td>0</td>\n      <td>2</td>\n      <td>2008</td>\n      <td>WD</td>\n      <td>Normal</td>\n      <td>208500</td>\n    </tr>\n    <tr>\n      <th>1</th>\n      <td>20</td>\n      <td>RL</td>\n      <td>9600</td>\n      <td>Reg</td>\n      <td>Lvl</td>\n      <td>FR2</td>\n      <td>Gtl</td>\n      <td>Veenker</td>\n      <td>Feedr</td>\n      <td>1Fam</td>\n      <td>...</td>\n      <td>Y</td>\n      <td>298</td>\n      <td>0</td>\n      <td>0</td>\n      <td>0</td>\n      <td>5</td>\n      <td>2007</td>\n      <td>WD</td>\n      <td>Normal</td>\n      <td>181500</td>\n    </tr>\n    <tr>\n      <th>2</th>\n      <td>60</td>\n      <td>RL</td>\n      <td>11250</td>\n      <td>IR1</td>\n      <td>Lvl</td>\n      <td>Inside</td>\n      <td>Gtl</td>\n      <td>CollgCr</td>\n      <td>Norm</td>\n      <td>1Fam</td>\n      <td>...</td>\n      <td>Y</td>\n      <td>0</td>\n      <td>42</td>\n      <td>0</td>\n      <td>0</td>\n      <td>9</td>\n      <td>2008</td>\n      <td>WD</td>\n      <td>Normal</td>\n      <td>223500</td>\n    </tr>\n    <tr>\n      <th>3</th>\n      <td>70</td>\n      <td>RL</td>\n      <td>9550</td>\n      <td>IR1</td>\n      <td>Lvl</td>\n      <td>Corner</td>\n      <td>Gtl</td>\n      <td>Crawfor</td>\n      <td>Norm</td>\n      <td>1Fam</td>\n      <td>...</td>\n      <td>Y</td>\n      <td>0</td>\n      <td>35</td>\n      <td>272</td>\n      <td>0</td>\n      <td>2</td>\n      <td>2006</td>\n      <td>WD</td>\n      <td>Abnorml</td>\n      <td>140000</td>\n    </tr>\n    <tr>\n      <th>4</th>\n      <td>60</td>\n      <td>RL</td>\n      <td>14260</td>\n      <td>IR1</td>\n      <td>Lvl</td>\n      <td>FR2</td>\n      <td>Gtl</td>\n      <td>NoRidge</td>\n      <td>Norm</td>\n      <td>1Fam</td>\n      <td>...</td>\n      <td>Y</td>\n      <td>192</td>\n      <td>84</td>\n      <td>0</td>\n      <td>0</td>\n      <td>12</td>\n      <td>2008</td>\n      <td>WD</td>\n      <td>Normal</td>\n      <td>250000</td>\n    </tr>\n  </tbody>\n</table>\n<p>5 rows × 51 columns</p>\n</div>"
     },
     "execution_count": 3,
     "metadata": {},
     "output_type": "execute_result"
    }
   ],
   "source": [
    "train_set = pd.read_csv(\"data/train.csv\")\n",
    "train_set.drop(['Id', 'Street', 'Utilities', 'Condition2', 'LowQualFinSF', 'KitchenAbvGr', '3SsnPorch', 'MiscVal',\n",
    "                'PoolArea', 'RoofMatl', 'Heating'], axis=1, inplace=True)\n",
    "print(train_set.shape)\n",
    "train_set.dropna(axis=1, inplace=True)\n",
    "train_set.head()"
   ]
  },
  {
   "cell_type": "code",
   "execution_count": 3,
   "metadata": {},
   "outputs": [],
   "source": [
    "X = train_set.drop(columns=[\"SalePrice\"])\n",
    "y = train_set[\"SalePrice\"]\n",
    "\n",
    "X_train, X_test, y_train, y_test = train_test_split(X, y, test_size=0.2)"
   ]
  },
  {
   "cell_type": "code",
   "execution_count": 4,
   "metadata": {},
   "outputs": [],
   "source": [
    "numerical_features = make_column_selector(dtype_include=np.number)\n",
    "categorical_features = make_column_selector(dtype_exclude=np.number)\n",
    "\n",
    "def to_string(x):\n",
    "    return pd.DataFrame(x).astype(str)\n",
    "\n",
    "numerical_pipeline = make_pipeline(SimpleImputer(), StandardScaler())\n",
    "categorical_pipeline = make_pipeline(FunctionTransformer(to_string),\n",
    "                                    SimpleImputer(missing_values=\"NA\", strategy=\"most_frequent\"), \n",
    "                                     OneHotEncoder(handle_unknown='ignore'))\n",
    "\n",
    "preprocessor = make_column_transformer((numerical_pipeline, numerical_features),\n",
    "                                   (categorical_pipeline, categorical_features))"
   ]
  },
  {
   "cell_type": "code",
   "execution_count": 7,
   "metadata": {},
   "outputs": [
    {
     "name": "stdout",
     "output_type": "stream",
     "text": [
      "------------------------------\n",
      "SGDRegressor\n",
      "MSLE 18091.828518823182\n",
      "R2 0.8803407369578399\n",
      "------------------------------\n",
      "Ridge\n",
      "MSLE 17470.8502605724\n",
      "R2 0.8934179364888453\n",
      "------------------------------\n",
      "RandomForestRegressor\n",
      "MSLE 16335.188112633181\n",
      "R2 0.8952091142373366\n",
      "------------------------------\n",
      "GradientBoostingRegressor\n",
      "MSLE 15169.877861661384\n",
      "R2 0.913570646758202\n"
     ]
    }
   ],
   "source": [
    "models = [SGDRegressor(penalty='l2', loss='squared_loss'),\n",
    "        Ridge(alpha=20),\n",
    "        RandomForestRegressor(max_features=100, n_estimators=150),\n",
    "        GradientBoostingRegressor(n_estimators=149)]\n",
    "names = []\n",
    "\n",
    "for model in models:\n",
    "    name = type(model).__name__\n",
    "    names.append(name)\n",
    "    model = make_pipeline(preprocessor, model)\n",
    "    \n",
    "    model.fit(X_train, y_train)\n",
    "    y_pred = model.predict(X_test)\n",
    "\n",
    "    print(\"-\"*30)\n",
    "    print(name)\n",
    "    print(\"MSLE\", mean_absolute_error(y_test, y_pred))    \n",
    "    print(\"R2\", r2_score(y_test, y_pred))"
   ]
  },
  {
   "cell_type": "code",
   "execution_count": 8,
   "metadata": {},
   "outputs": [
    {
     "name": "stdout",
     "output_type": "stream",
     "text": [
      "Stacking\n",
      "MSLE 0.012510188077977309\n",
      "R2 0.9175812077042069\n"
     ]
    }
   ],
   "source": [
    "stacking = make_pipeline(preprocessor, StackingRegressor([(names[i], models[i]) for i in range(len(models))], cv=11))\n",
    "\n",
    "stacking.fit(X_train, y_train)\n",
    "y_pred = stacking.predict(X_test)\n",
    "\n",
    "print(\"Stacking\")\n",
    "print(\"MSLE\", mean_squared_log_error(y_test, y_pred))    \n",
    "print(\"R2\", r2_score(y_test, y_pred))"
   ]
  },
  {
   "cell_type": "code",
   "execution_count": 9,
   "metadata": {},
   "outputs": [
    {
     "name": "stdout",
     "output_type": "stream",
     "text": [
      "MSLE 14841.707761663063\n"
     ]
    }
   ],
   "source": [
    "print(\"MSLE\", mean_absolute_error(y_test, y_pred))  "
   ]
  },
  {
   "cell_type": "code",
   "execution_count": null,
   "metadata": {},
   "outputs": [],
   "source": [
    "test_set = pd.read_csv(\"data/test.csv\")\n",
    "examen = test_set[X.columns]"
   ]
  },
  {
   "cell_type": "code",
   "execution_count": null,
   "metadata": {},
   "outputs": [],
   "source": [
    "\"\"\"import time\n",
    "\n",
    "s = time.time()\n",
    "\n",
    "model = make_pipeline(preprocessor, StackingRegressor([(names[i], models[i]) for i in range(len(models))]))\n",
    "\n",
    "param_grid = {\"stackingregressor__cv\": [10, 11, 12]}\n",
    "\n",
    "grid = GridSearchCV(estimator=model, param_grid=param_grid, scoring=\"neg_root_mean_squared_error\")\n",
    "\n",
    "grid.fit(X_train, y_train)\n",
    "print(grid.best_score_)\n",
    "print(\"time\", time.time() - s)\n",
    "\n",
    "model = gridbest_estimator_\n",
    "\n",
    "model.fit(X_train, y_train)\n",
    "\n",
    "y_pred = model.predict(X_test)\n",
    "\n",
    "print(\"Stacking\")\n",
    "print(\"MSLE\", mean_squared_log_error(y_test, y_pred))    \n",
    "print(\"R2\", r2_score(y_test, y_pred))\n",
    "\n",
    "grid.best_params_\"\"\""
   ]
  },
  {
   "cell_type": "code",
   "execution_count": null,
   "metadata": {},
   "outputs": [],
   "source": [
    "stacking = make_pipeline(preprocessor, StackingRegressor([(names[i], models[i]) for i in range(len(models))]))\n",
    "stacking.fit(X, y)\n",
    "\n",
    "results = pd.Series(stacking.predict(examen), name='SalePrice')\n",
    "\n",
    "results = pd.concat([test_set['Id'], results], axis=1)\n",
    "results.set_index(\"Id\", inplace=True)"
   ]
  },
  {
   "cell_type": "code",
   "execution_count": null,
   "metadata": {},
   "outputs": [],
   "source": [
    "results.to_csv(\"data/results.csv\")"
   ]
  },
  {
   "cell_type": "code",
   "execution_count": null,
   "metadata": {},
   "outputs": [],
   "source": []
  }
 ],
 "metadata": {
  "kernelspec": {
   "display_name": "Python 3",
   "language": "python",
   "name": "python3"
  },
  "language_info": {
   "codemirror_mode": {
    "name": "ipython",
    "version": 3
   },
   "file_extension": ".py",
   "mimetype": "text/x-python",
   "name": "python",
   "nbconvert_exporter": "python",
   "pygments_lexer": "ipython3",
   "version": "3.9.4"
  }
 },
 "nbformat": 4,
 "nbformat_minor": 4
}