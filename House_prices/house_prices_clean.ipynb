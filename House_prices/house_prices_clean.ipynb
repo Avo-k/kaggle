{
 "cells": [
  {
   "cell_type": "code",
   "execution_count": 1,
   "outputs": [],
   "source": [
    "import pandas as pd\n",
    "import numpy as np\n",
    "from sklearn.pipeline import make_pipeline, FeatureUnion\n",
    "from sklearn.compose import make_column_selector, make_column_transformer\n",
    "from sklearn.preprocessing import StandardScaler, OneHotEncoder, Normalizer, normalize, FunctionTransformer, RobustScaler\n",
    "from sklearn.impute import SimpleImputer\n",
    "from sklearn.feature_selection import VarianceThreshold\n",
    "from sklearn.model_selection import train_test_split, GridSearchCV\n",
    "from sklearn.linear_model import LassoLarsCV, LassoLarsCV, ElasticNet, RidgeCV, Ridge, SGDRegressor, LinearRegression\n",
    "from sklearn.metrics import mean_squared_error, mean_absolute_error, r2_score, mean_squared_log_error\n",
    "from sklearn.ensemble import RandomForestRegressor, GradientBoostingRegressor, VotingRegressor, StackingRegressor\n"
   ],
   "metadata": {
    "collapsed": false,
    "pycharm": {
     "name": "#%%\n"
    }
   }
  },
  {
   "cell_type": "code",
   "execution_count": 2,
   "outputs": [
    {
     "data": {
      "text/plain": "   Id  MSSubClass MSZoning  LotArea Street LotShape LandContour Utilities  \\\n0   1          60       RL     8450   Pave      Reg         Lvl    AllPub   \n1   2          20       RL     9600   Pave      Reg         Lvl    AllPub   \n2   3          60       RL    11250   Pave      IR1         Lvl    AllPub   \n3   4          70       RL     9550   Pave      IR1         Lvl    AllPub   \n4   5          60       RL    14260   Pave      IR1         Lvl    AllPub   \n\n  LotConfig LandSlope  ... EnclosedPorch 3SsnPorch ScreenPorch PoolArea  \\\n0    Inside       Gtl  ...             0         0           0        0   \n1       FR2       Gtl  ...             0         0           0        0   \n2    Inside       Gtl  ...             0         0           0        0   \n3    Corner       Gtl  ...           272         0           0        0   \n4       FR2       Gtl  ...             0         0           0        0   \n\n  MiscVal  MoSold  YrSold  SaleType  SaleCondition SalePrice  \n0       0       2    2008        WD         Normal    208500  \n1       0       5    2007        WD         Normal    181500  \n2       0       9    2008        WD         Normal    223500  \n3       0       2    2006        WD        Abnorml    140000  \n4       0      12    2008        WD         Normal    250000  \n\n[5 rows x 75 columns]",
      "text/html": "<div>\n<style scoped>\n    .dataframe tbody tr th:only-of-type {\n        vertical-align: middle;\n    }\n\n    .dataframe tbody tr th {\n        vertical-align: top;\n    }\n\n    .dataframe thead th {\n        text-align: right;\n    }\n</style>\n<table border=\"1\" class=\"dataframe\">\n  <thead>\n    <tr style=\"text-align: right;\">\n      <th></th>\n      <th>Id</th>\n      <th>MSSubClass</th>\n      <th>MSZoning</th>\n      <th>LotArea</th>\n      <th>Street</th>\n      <th>LotShape</th>\n      <th>LandContour</th>\n      <th>Utilities</th>\n      <th>LotConfig</th>\n      <th>LandSlope</th>\n      <th>...</th>\n      <th>EnclosedPorch</th>\n      <th>3SsnPorch</th>\n      <th>ScreenPorch</th>\n      <th>PoolArea</th>\n      <th>MiscVal</th>\n      <th>MoSold</th>\n      <th>YrSold</th>\n      <th>SaleType</th>\n      <th>SaleCondition</th>\n      <th>SalePrice</th>\n    </tr>\n  </thead>\n  <tbody>\n    <tr>\n      <th>0</th>\n      <td>1</td>\n      <td>60</td>\n      <td>RL</td>\n      <td>8450</td>\n      <td>Pave</td>\n      <td>Reg</td>\n      <td>Lvl</td>\n      <td>AllPub</td>\n      <td>Inside</td>\n      <td>Gtl</td>\n      <td>...</td>\n      <td>0</td>\n      <td>0</td>\n      <td>0</td>\n      <td>0</td>\n      <td>0</td>\n      <td>2</td>\n      <td>2008</td>\n      <td>WD</td>\n      <td>Normal</td>\n      <td>208500</td>\n    </tr>\n    <tr>\n      <th>1</th>\n      <td>2</td>\n      <td>20</td>\n      <td>RL</td>\n      <td>9600</td>\n      <td>Pave</td>\n      <td>Reg</td>\n      <td>Lvl</td>\n      <td>AllPub</td>\n      <td>FR2</td>\n      <td>Gtl</td>\n      <td>...</td>\n      <td>0</td>\n      <td>0</td>\n      <td>0</td>\n      <td>0</td>\n      <td>0</td>\n      <td>5</td>\n      <td>2007</td>\n      <td>WD</td>\n      <td>Normal</td>\n      <td>181500</td>\n    </tr>\n    <tr>\n      <th>2</th>\n      <td>3</td>\n      <td>60</td>\n      <td>RL</td>\n      <td>11250</td>\n      <td>Pave</td>\n      <td>IR1</td>\n      <td>Lvl</td>\n      <td>AllPub</td>\n      <td>Inside</td>\n      <td>Gtl</td>\n      <td>...</td>\n      <td>0</td>\n      <td>0</td>\n      <td>0</td>\n      <td>0</td>\n      <td>0</td>\n      <td>9</td>\n      <td>2008</td>\n      <td>WD</td>\n      <td>Normal</td>\n      <td>223500</td>\n    </tr>\n    <tr>\n      <th>3</th>\n      <td>4</td>\n      <td>70</td>\n      <td>RL</td>\n      <td>9550</td>\n      <td>Pave</td>\n      <td>IR1</td>\n      <td>Lvl</td>\n      <td>AllPub</td>\n      <td>Corner</td>\n      <td>Gtl</td>\n      <td>...</td>\n      <td>272</td>\n      <td>0</td>\n      <td>0</td>\n      <td>0</td>\n      <td>0</td>\n      <td>2</td>\n      <td>2006</td>\n      <td>WD</td>\n      <td>Abnorml</td>\n      <td>140000</td>\n    </tr>\n    <tr>\n      <th>4</th>\n      <td>5</td>\n      <td>60</td>\n      <td>RL</td>\n      <td>14260</td>\n      <td>Pave</td>\n      <td>IR1</td>\n      <td>Lvl</td>\n      <td>AllPub</td>\n      <td>FR2</td>\n      <td>Gtl</td>\n      <td>...</td>\n      <td>0</td>\n      <td>0</td>\n      <td>0</td>\n      <td>0</td>\n      <td>0</td>\n      <td>12</td>\n      <td>2008</td>\n      <td>WD</td>\n      <td>Normal</td>\n      <td>250000</td>\n    </tr>\n  </tbody>\n</table>\n<p>5 rows × 75 columns</p>\n</div>"
     },
     "execution_count": 2,
     "metadata": {},
     "output_type": "execute_result"
    }
   ],
   "source": [
    "train_set = pd.read_csv(\"data/train.csv\")\n",
    "train_set.dropna(axis=1,thresh=len(train_set) * 90/100, inplace=True)\n",
    "train_set.head()"
   ],
   "metadata": {
    "collapsed": false,
    "pycharm": {
     "name": "#%%\n"
    }
   }
  },
  {
   "cell_type": "code",
   "execution_count": 3,
   "outputs": [],
   "source": [
    "X = train_set.drop(columns=[\"SalePrice\", \"Id\"])\n",
    "y = train_set[\"SalePrice\"]\n",
    "\n",
    "X_train, X_test, y_train, y_test = train_test_split(X, y, test_size=0.2)\n"
   ],
   "metadata": {
    "collapsed": false,
    "pycharm": {
     "name": "#%%\n"
    }
   }
  },
  {
   "cell_type": "code",
   "execution_count": 4,
   "outputs": [],
   "source": [
    "low_var = []\n",
    "\n",
    "for serie in X:\n",
    "    vc = X[serie].value_counts()\n",
    "    if len(X[serie]) * 94 / 100 < vc.iloc[0]:\n",
    "        low_var.append(serie)\n",
    "\n",
    "X.drop(columns=low_var, inplace=True)"
   ],
   "metadata": {
    "collapsed": false,
    "pycharm": {
     "name": "#%%\n"
    }
   }
  },
  {
   "cell_type": "code",
   "execution_count": 5,
   "outputs": [],
   "source": [
    "numerical_features = make_column_selector(dtype_include=np.number)\n",
    "numerical_pipeline = make_pipeline(SimpleImputer(strategy=\"mean\"), StandardScaler())\n",
    "\n",
    "categorical_features = make_column_selector(dtype_exclude=np.number)\n",
    "categorical_pipeline = make_pipeline(FunctionTransformer(lambda x: pd.DataFrame(x).astype(str)),\n",
    "                                     SimpleImputer(missing_values=\"NA\", strategy=\"most_frequent\"),\n",
    "                                     OneHotEncoder(handle_unknown='ignore'))\n",
    "\n",
    "preprocessor = make_column_transformer((numerical_pipeline, numerical_features),\n",
    "                                   (categorical_pipeline, categorical_features))"
   ],
   "metadata": {
    "collapsed": false,
    "pycharm": {
     "name": "#%%\n"
    }
   }
  },
  {
   "cell_type": "code",
   "execution_count": 6,
   "outputs": [
    {
     "name": "stdout",
     "output_type": "stream",
     "text": [
      "Ridge(alpha=17)\n",
      "RandomForestRegressor(n_estimators=60)\n",
      "GradientBoostingRegressor(learning_rate=0.04, n_estimators=1000, subsample=0.6)\n"
     ]
    }
   ],
   "source": [
    "models = [Ridge(), RandomForestRegressor(), GradientBoostingRegressor()]\n",
    "\n",
    "param_grids = [{'alpha': range(1, 40)},\n",
    "               {'n_estimators': range(60,100,10)},\n",
    "                {'learning_rate': [0.1, 0.08, 0.04],\n",
    "                  'subsample'    : [0.6, 0.5],\n",
    "                  'n_estimators' : [900, 1000, 1100],\n",
    "                  'max_depth'    : [3, 4]}]\n",
    "\n",
    "pre = preprocessor.fit_transform(X_train, y_train)\n",
    "\n",
    "for i, model in enumerate(models):\n",
    "    grid = GridSearchCV(estimator=model, param_grid = param_grids[i], scoring=\"neg_root_mean_squared_error\")\n",
    "    grid.fit(pre, y_train)\n",
    "    models[i] = grid.best_estimator_\n",
    "    print(grid.best_estimator_)"
   ],
   "metadata": {
    "collapsed": false,
    "pycharm": {
     "name": "#%%\n"
    }
   }
  },
  {
   "cell_type": "code",
   "execution_count": 7,
   "outputs": [
    {
     "name": "stdout",
     "output_type": "stream",
     "text": [
      "------------------------------\n",
      "Ridge\n",
      "RMSE 24119.92339643343\n",
      "R2 0.8974011974468389\n",
      "------------------------------\n",
      "RandomForestRegressor\n",
      "RMSE 23029.050249208412\n",
      "R2 0.9064718167198744\n",
      "------------------------------\n",
      "GradientBoostingRegressor\n",
      "RMSE 20708.15067608488\n",
      "R2 0.9243736611279045\n"
     ]
    }
   ],
   "source": [
    "models_save = [Ridge(alpha=19),\n",
    "          RandomForestRegressor(n_estimators=60),\n",
    "          GradientBoostingRegressor(learning_rate=0.03, max_depth=4, n_estimators=1000, subsample=0.6)]\n",
    "\n",
    "names = []\n",
    "for model in models:\n",
    "    name = type(model).__name__\n",
    "    names.append(name)\n",
    "    model = make_pipeline(preprocessor, model)\n",
    "\n",
    "    model.fit(X_train, y_train)\n",
    "    y_pred = model.predict(X_test)\n",
    "\n",
    "    print(\"-\"*30)\n",
    "    print(name)\n",
    "    print(\"RMSE\", mean_squared_error(y_test, y_pred, squared=False))\n",
    "    print(\"R2\", r2_score(y_test, y_pred))\n"
   ],
   "metadata": {
    "collapsed": false,
    "pycharm": {
     "name": "#%%\n"
    }
   }
  },
  {
   "cell_type": "code",
   "execution_count": 8,
   "outputs": [
    {
     "name": "stdout",
     "output_type": "stream",
     "text": [
      "StackingRegressor\n",
      "RMSE 19352.5652725807\n",
      "R2 0.9339508054964868\n"
     ]
    }
   ],
   "source": [
    "stacking = make_pipeline(preprocessor, StackingRegressor([(names[i], models[i]) for i in range(len(models))]))\n",
    "stacking.fit(X_train, y_train)\n",
    "y_pred = stacking.predict(X_test)\n",
    "\n",
    "print(\"StackingRegressor\")\n",
    "print(\"RMSE\", mean_squared_error (y_test, y_pred, squared=False))\n",
    "print(\"R2\", r2_score(y_test, y_pred))\n"
   ],
   "metadata": {
    "collapsed": false,
    "pycharm": {
     "name": "#%%\n"
    }
   }
  },
  {
   "cell_type": "code",
   "execution_count": 9,
   "outputs": [],
   "source": [
    "test_set = pd.read_csv(\"data/test.csv\")\n",
    "test_preprocessed = test_set[X.columns]\n",
    "\n",
    "stacking = make_pipeline(preprocessor, StackingRegressor([(names[i], models[i]) for i in range(len(models))]))\n",
    "stacking.fit(X, y)\n",
    "\n",
    "results = pd.Series(stacking.predict(test_preprocessed), name='SalePrice')\n",
    "\n",
    "results = pd.concat([test_set['Id'], results], axis=1)\n",
    "results.set_index(\"Id\", inplace=True)"
   ],
   "metadata": {
    "collapsed": false,
    "pycharm": {
     "name": "#%%\n"
    }
   }
  },
  {
   "cell_type": "code",
   "execution_count": 11,
   "outputs": [],
   "source": [
    "results.to_csv(\"data/results.csv\")\n"
   ],
   "metadata": {
    "collapsed": false,
    "pycharm": {
     "name": "#%%\n"
    }
   }
  }
 ],
 "metadata": {
  "kernelspec": {
   "name": "python3",
   "language": "python",
   "display_name": "Python 3"
  }
 },
 "nbformat": 4,
 "nbformat_minor": 5
}